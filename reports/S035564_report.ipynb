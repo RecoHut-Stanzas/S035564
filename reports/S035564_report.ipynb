{
  "cells": [
    {
      "cell_type": "markdown",
      "source": [
        "# Equal Experience in Recommender Systems on ML-1m and Synthetic biased data"
      ],
      "metadata": {
        "id": "8OiTWf8-UHea"
      }
    },
    {
      "cell_type": "markdown",
      "source": [
        "## Executive summary\n",
        "\n",
        "| | |\n",
        "| --- | --- |\n",
        "| Problem | Biased data due to inherent stereotypes of particular groups (e.g., male students’ average rating on mathematics is often higher than that on humanities, and vice versa for females) may yield a limited scope of suggested items to a certain group of users. |\n",
        "| Solution | The novel fairness notion, coined ***Equal Experience***, tries to capture the degree of the equal experience of item recommendations across distinct groups. Specifically, the prediction $\\hat{Y}$ should be independent of the 1) user group $Z_{user}$, and 2) item group $Z_{item}$. Formally, $I(\\hat{Y};Z_{user},Z_{item}) = I(\\hat{Y};Z_{item}) + I(\\hat{Y};Z_{user}|Z_{item}) = I(\\hat{Y};Z_{user}) + I(\\hat{Y};Z_{item}|Z_{user})$ |\n",
        "| Dataset | ML-1m, LastFM-360k, Synthetic. |\n",
        "| Preprocessing | For ML-1m, we divide user and item groups based on gender and genre, respectively. Action, crime, film-noir, war are selected as male-preferred genre, whereas children, fantasy, musical, romance are selected as female-preferred genre. We can select male-preferred and female-preferred genres in a variety of ways based on ratings and observations. In case of LastFM-360k, the associated task is to predict whether the user likes the artist or not. The data for play counts is converted to binary rating. We divide user and item groups based on gender and genre, respectively. We also randomly select 5000 male and 5000 female users. Among 10 genres, we choose hip-hop and musical for male and female preferred genres, respectively. The final rating matrix of 10,000 users and 5,706 artists is 0.55% full. We randomly split the real datasets into 90% train set and 10% test set. In case of MovieLens data, the rating is five-star based, so we set the threshold $\\tau$ = 3, on the other hand, for LastFM and for synthetic dataset, we set $\\tau$ = 0 as $M_{ij} \\in \\{+1, −1\\}$. |\n",
        "| Metrics | RMSE, DEE, VAL, UGF, CVS |\n",
        "| Models | MF class models, AE class models |\n",
        "| Cluster | Python 3.6+, PyTorch |\n",
        "| Tags | `Fairness`, `MatrixFactorization`, `AutoEncoder`,  `ExposureBias`, `PopulationBias` |\n",
        "| Credits | cjw2525 |"
      ],
      "metadata": {
        "id": "2TVkI_xCUHb8"
      }
    },
    {
      "cell_type": "markdown",
      "source": [
        "## Population and Observation Bias\n",
        "\n",
        "Let us understand them in a simple subject-recommendation example where there are two user groups ($Z_{user}$ = 0 for male and $Z_{user}$ = 1 for female) and two item groups ($Z_{item}$ = 0 for science and $Z_{item}$ = 1 for literature). Population imbalance refers to the difference in the ground-truth preferences between two user groups, e.g., for the science subject, male students exhibit higher ratings relative to females. Observation bias is the one that occurs due to the stereotype formed by societal and cultural influences. To understand what it means, let us consider a scenario where a male student equally likes science and literature subjects. But due to the stereotype that male students prefer science to literature in general, there may be very sparse ratings from male students for literature. The system trained based on such data might incorrectly interpret as if male students dislike literature. Such data is said to have observation bias.\n",
        "\n",
        "## Tutorials\n",
        "\n",
        "### Equal Experience in Recommender Systems on ML-1m\n",
        "\n",
        "[direct link to notebook →](https://github.com/RecoHut-Stanzas/S035564/blob/main/nbs/P525289_Equal_Experience_in_Recommender_Systems_on_ML_1m_and_Synthetic_biased_data.ipynb)\n",
        "\n",
        "![https://github.com/RecoHut-Stanzas/S035564/raw/main/images/process_flow.svg](https://github.com/RecoHut-Stanzas/S035564/raw/main/images/process_flow.svg)\n",
        "\n",
        "## References\n",
        "\n",
        "1. [https://github.com/RecoHut-Stanzas/S035564](https://github.com/RecoHut-Stanzas/S035564)\n",
        "2. [https://openreview.net/pdf?id=_ysluXvD1M](https://openreview.net/pdf?id=_ysluXvD1M)\n",
        "3. [https://github.com/cjw2525/fairrec](https://github.com/cjw2525/fairrec)"
      ],
      "metadata": {
        "id": "A8QraQ0uZKaT"
      }
    }
  ],
  "metadata": {
    "colab": {
      "name": "scratchpad",
      "provenance": []
    },
    "kernelspec": {
      "display_name": "Python 3",
      "name": "python3"
    }
  },
  "nbformat": 4,
  "nbformat_minor": 0
}